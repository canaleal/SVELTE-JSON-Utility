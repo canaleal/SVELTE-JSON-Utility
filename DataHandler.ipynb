{
 "cells": [
  {
   "attachments": {},
   "cell_type": "markdown",
   "metadata": {},
   "source": [
    "## Requirements\n",
    "pip install pandas\n"
   ]
  },
  {
   "cell_type": "code",
   "execution_count": null,
   "metadata": {
    "vscode": {
     "languageId": "plaintext"
    }
   },
   "outputs": [],
   "source": [
    "import pandas as pd \n",
    "\n",
    "raw_data_1990_1999 = pd.read_csv('src/data/raw-data-1990-1998.csv)\n",
    "raw_data_2000_2009 = pd.read_csv('src/data/raw-data-2000-2009.csv)\n",
    "raw_data_2010_2019 = pd.read_csv('src/data/raw-data-2010-2019.csv)\n",
    "raw_data_2020_2029 = pd.read_csv('src/data/raw-data-2020-2029.csv)"
   ]
  }
 ],
 "metadata": {
  "language_info": {
   "name": "python"
  },
  "orig_nbformat": 4
 },
 "nbformat": 4,
 "nbformat_minor": 2
}
